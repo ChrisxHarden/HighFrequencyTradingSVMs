{
 "cells": [
  {
   "cell_type": "markdown",
   "metadata": {},
   "source": [
    "# Backtesting\n",
    "\n",
    "This notebook will perform the backtesting of our SVM model on our dataset. \n",
    "\n",
    "We will calculate the total profit/loss of our strategy, as well as information about the trading frequency, the profit per trade, and other information about the performance of our strategy. "
   ]
  },
  {
   "cell_type": "code",
   "execution_count": 1,
   "metadata": {},
   "outputs": [],
   "source": [
    "import pandas as pd\n",
    "import numpy as np\n",
    "\n",
    "import matplotlib.pyplot as plt\n",
    "import matplotlib.dates as dates\n",
    "import matplotlib.ticker as ticker\n",
    "import datetime\n",
    "\n",
    "import math\n",
    "import scipy.stats\n",
    "import sklearn\n",
    "from sklearn import preprocessing\n",
    "from sklearn import svm\n",
    "\n",
    "%load_ext autoreload\n",
    "%autoreload 2"
   ]
  },
  {
   "cell_type": "code",
   "execution_count": 2,
   "metadata": {},
   "outputs": [],
   "source": [
    "# Load in dataset\n",
    "df_gg = pd.read_csv('./data/df_gg_processed.csv')\n",
    "df_ggl = pd.read_csv('./data/df_ggl_processed.csv')\n",
    "\n",
    "# Read in train-test fold data\n",
    "info = np.load('./data/info.npy')"
   ]
  },
  {
   "cell_type": "code",
   "execution_count": 3,
   "metadata": {},
   "outputs": [],
   "source": [
    "def create_pl_df(df_ticker1, df_ticker2, info):\n",
    "    \"\"\"\n",
    "    Creates a comprehensive DataFrame by combining the ticker data from the given tickers \n",
    "    with the residual information calculated in the OU class. \n",
    "\n",
    "    Saves this DataFrame to self.df_residual. \n",
    "    \n",
    "    ## TODO: Rewrite GOOG/GOOGL Labels to make more abstract. \n",
    "\n",
    "    :df_ticker1: Ticker data from first asset. \n",
    "    :df_ticker2: Ticker data from second asset. \n",
    "    :info: Fold dictionary calculated from OU class. \n",
    "\n",
    "    \"\"\"\n",
    "    ticker1_name = df_ticker1['TICKER']\n",
    "    ticker2_name = df_ticker2['TICKER']\n",
    "    \n",
    "    df_test_only = pd.DataFrame()\n",
    "    df_test_only_labels = pd.Series()\n",
    "\n",
    "    for i in info:\n",
    "        idx = i['test']['index']\n",
    "        residuals = i['test']['residuals_transform_price']\n",
    "        beta = i['train']['beta_fit_price']\n",
    "        df_temp = pd.concat([df_ticker1.loc[idx]['CLOSE'], \n",
    "                             beta * df_ticker2.loc[idx]['CLOSE'], \n",
    "                             df_ticker1.loc[idx]['price'], \n",
    "                             beta * df_ticker2.loc[idx]['price'], \n",
    "                             i['test']['residuals_transform_price'], \n",
    "                             df_ticker1.loc[idx]['TIMESTAMP']\n",
    "                            ], axis=1)\n",
    "        df_test_only = df_test_only.append(df_temp)\n",
    "        df_test_only_labels = df_test_only_labels.append(i['test']['labels'])\n",
    "\n",
    "    df_test_only['label'] = df_test_only_labels\n",
    "    df_test_only.columns=['GOOG', 'beta*GOOGL', 'GOOG_return', \n",
    "                          'beta*GOOGL_return', 'residual', 'TIMESTAMP', 'label']\n",
    "    # Find Profit of last trade given percent returns. \n",
    "    # (y-(1-deltaY)y) - (x-(1-deltaX)x)\n",
    "    df_test_only['beta*GOOGL_gains'] = df_test_only['beta*GOOGL']-(1-df_test_only['beta*GOOGL_return'])*df_test_only['beta*GOOGL']\n",
    "    df_test_only['GOOG_gains'] = df_test_only['GOOG']-(1-df_test_only['GOOG_return'])*df_test_only['GOOG']\n",
    "    df_test_only['profit'] = df_test_only['beta*GOOGL_gains'] - df_test_only['GOOG_gains']\n",
    "    df_test_only['TIMESTAMP'] = pd.to_datetime(df_test_only.TIMESTAMP)\n",
    "    print('P/L Dataframe saved as \"df_residual\" parameter.')\n",
    "    return df_test_only"
   ]
  },
  {
   "cell_type": "code",
   "execution_count": 4,
   "metadata": {},
   "outputs": [],
   "source": [
    "def param_format(params):\n",
    "    \"\"\"\n",
    "    Function that formats a dictionary of parameters into a string that is \n",
    "    writeable to a file/directory. \n",
    "    \n",
    "    :params: Parameter Dictionary to format. \n",
    "    \n",
    "    :ret: Stringified version of the parameter dictionary. \n",
    "    \"\"\"\n",
    "    param_str = ', '.join(\"{!s}-{!r}\".format(key,val) for (key,val) in params.items())\n",
    "    param_str = param_str.replace(\"{\", \"\")\n",
    "    param_str = param_str.replace(\"}\", \"\")\n",
    "    param_str = param_str.replace(\"'\", \"\")\n",
    "    param_str = param_str.replace(\",\", \"_\")\n",
    "    param_str = param_str.replace(\" \", \"\")\n",
    "    param_str = param_str.replace(\":\", \"\")\n",
    "    param_str = param_str.replace(\".\", \"\")\n",
    "    param_str = param_str.strip()\n",
    "    \n",
    "    return param_str"
   ]
  },
  {
   "cell_type": "code",
   "execution_count": 26,
   "metadata": {},
   "outputs": [],
   "source": [
    "def sharpe(df_temp):\n",
    "    \"\"\"\n",
    "    Takes in a profit/loss dataframe with labels and finds the Sharpe Ratio according to \n",
    "    the following formula: \n",
    "    \n",
    "    Daily P/L / Standard Dev(Daily P/L) x sqrt(252)\n",
    "    \n",
    "    :df_temp: Profit/loss dataframe. \n",
    "    \n",
    "    :ret: Sharpe Ratio.\n",
    "    \"\"\"\n",
    "    daily_profit = df_temp.groupby(by = \n",
    "                                   [df_temp.TIMESTAMP.dt.year, \n",
    "                                    df_temp.TIMESTAMP.dt.month, \n",
    "                                    df_temp.TIMESTAMP.dt.day])['profit_timeline'].sum()\n",
    "    \n",
    "    return np.mean(daily_profit)/np.std(daily_profit) * np.sqrt(252)\n",
    "\n",
    "\n",
    "def sortino(df_temp):\n",
    "    \"\"\"\n",
    "    Takes in a profit/loss dataframe with labels and finds the Sortino Ratio according to \n",
    "    the following formula: \n",
    "    \n",
    "    Daily P/L / Standard Dev(Negative Daily P/L) x sqrt(252)\n",
    "    \n",
    "    :df_temp: Profit/loss dataframe. \n",
    "    \n",
    "    :ret: Sortino Ratio.\n",
    "    \"\"\"\n",
    "    daily_profit = df_temp.groupby(by = \n",
    "                                   [df_temp.TIMESTAMP.dt.year, \n",
    "                                    df_temp.TIMESTAMP.dt.month, \n",
    "                                    df_temp.TIMESTAMP.dt.day])['profit_timeline'].sum()\n",
    "    \n",
    "    return np.mean(daily_profit)/np.std([pl for pl in daily_profit if pl < 0]) * np.sqrt(252)\n",
    "    \n",
    "\n",
    "def precision(pred, label):\n",
    "    return (pred[np.logical_and(pred==1, label==1)].shape[0])/pred[pred==1].shape[0]\n",
    "\n",
    "\n",
    "def fit(params, info):\n",
    "    \"\"\"\n",
    "    Fit a SVM according to the parameters across all folds in the info dictionary. \n",
    "    Returns a flattened numpy array of prediction labels across all folds. \n",
    "\n",
    "    Adds the labels for the parameter to the residual graph. \n",
    "\n",
    "    :params: Model Hyperparameters.\n",
    "    :info_dict: Associated Info Dict.\n",
    "\n",
    "    :ret: Numpy array of predictions.\n",
    "    \"\"\"\n",
    "    preds = []\n",
    "\n",
    "    for i in info:\n",
    "        b_svm = svm.SVC(**params)\n",
    "        b_svm.fit(i['train']['df_scale'], i['train']['labels'])\n",
    "        pred = b_svm.predict(i['test']['df_scale'])\n",
    "        preds.append(pred)\n",
    "        \n",
    "    return np.hstack(np.array(preds))\n",
    "\n",
    "\n",
    "def find_profit_loss(df_test, preds, params, window=5, threshold=0.0005, plot=True, save_dir=None):\n",
    "    \"\"\"\n",
    "    Performs P/L Backtesting given some prediction labels and a test dataframe. \n",
    "\n",
    "    Returns a dictionary of results. \n",
    "    \n",
    "    :df_test: DataFrame of profit loss. \n",
    "    :preds: Prediction Labels: \n",
    "    :params: Name of Params of model tested. \n",
    "    :window: Evaluation window for how long we want to hold on to our position. \n",
    "    :threshold: how much of a residual shift determines a trade being offloaded. \n",
    "    :plot: Flag for evaluation plots. \n",
    "    :save_dir: Folder to save evaluation plots. \n",
    "    \n",
    "    :ret: results. \n",
    "    \"\"\"\n",
    "    backtest_results = {}\n",
    "    # Turn params into string for file output\n",
    "    param_str = param_format(params)\n",
    "    print(\"Finding Profit/Loss for model with parameters: %s.\" % param_str)\n",
    "    total_profit = 0.0\n",
    "    \n",
    "    # Daily profit p/l\n",
    "    profit_timeline = []\n",
    "    # Per trade p/l\n",
    "    trade_profit_timeline = []\n",
    "    # Amount of minutes held per trade\n",
    "    time_held_timeline = []\n",
    "    # Trades held portfolio\n",
    "    trades_data = []\n",
    "\n",
    "    df_temp = df_test.copy()\n",
    "    df_temp['label'] = preds\n",
    "\n",
    "    for row in df_temp.iterrows():\n",
    "        cur_profit = 0.0\n",
    "        profit = row[1]['profit']\n",
    "        residual = row[1]['residual']\n",
    "        \n",
    "        # For each currently held trade in portfolio, adjust freshness and profit with each timestep. \n",
    "        for position in trades_data:\n",
    "            position['fresh'] += 1\n",
    "            position['profit'] += profit\n",
    "            # If the residual crosses the threshold or the time runs out, unload the trade. \n",
    "            if (position['residual'] - threshold >= residual) or position['fresh'] >= window:\n",
    "                cur_profit+=position['profit']\n",
    "                # To keep track of average trade value. \n",
    "                trade_profit_timeline.append(position['profit'])\n",
    "                time_held_timeline.append(position['fresh'])\n",
    "                trades_data.remove(position)\n",
    "        profit_timeline.append(cur_profit)\n",
    "        total_profit+=cur_profit\n",
    "\n",
    "        if row[1]['label']==1 and residual > 0:\n",
    "            trades_data.append({'profit': 0, 'residual': residual, 'fresh': 0})\n",
    "            \n",
    "    # Appends daily p/l array to array for easier calculations in the future.         \n",
    "    df_temp['profit_timeline'] = profit_timeline\n",
    "    \n",
    "    backtest_results['total_profit'] = total_profit\n",
    "    backtest_results['daily_profit_timeline'] = profit_timeline\n",
    "    backtest_results['trade_profit_timeline'] = trade_profit_timeline\n",
    "    backtest_results['time_held_timeline'] = time_held_timeline\n",
    "    backtest_results['trades_executed'] = len(trade_profit_timeline)\n",
    "    backtest_results['params'] = params\n",
    "    backtest_results['precision'] = precision(df_temp['label'], df_test['label'])\n",
    "    backtest_results['mean_profit_per_trade'] = np.mean(trade_profit_timeline)\n",
    "    backtest_results['sharpe'] = sharpe(df_temp)\n",
    "    backtest_results['sortino'] = sortino(df_temp)\n",
    "    \n",
    "    if plot:\n",
    "        # Plot Total Profit\n",
    "        min_date = df_temp.TIMESTAMP.min()\n",
    "        max_date = df_temp.TIMESTAMP.max()\n",
    "        plt.figure()\n",
    "        plt.plot(np.cumsum(profit_timeline), color='green')\n",
    "        plt.xlabel('Time')\n",
    "        plt.ylabel('P/L')\n",
    "        plt.xlim([0, df_temp.shape[0]])\n",
    "        plt.ylim([-2000, 12000])\n",
    "        plt.title('Total P/L from %s to %s \\n Window=%d, threshold = %0.5f \\n Model Parameters: %s' % (min_date, max_date, window, threshold, params))\n",
    "        plt.grid()\n",
    "        plt.savefig(save_dir + 'total_pl_' + param_str +'.jpg')\n",
    "\n",
    "        # Plot Time Held Histogram\n",
    "        plt.figure()\n",
    "        plt.hist(time_held_timeline, bins=5, linestyle='solid', edgecolor='black', color='red')\n",
    "        ax = plt.gca()\n",
    "        plt.xlabel('Histogram of Minutes held per trade')\n",
    "        plt.ylabel('Frequency')\n",
    "        plt.grid()\n",
    "        plt.xlim([1, window])\n",
    "        plt.title('Minutes held per trade \\n Model Parameters: %s' % params)\n",
    "        ax.xaxis.set_major_locator(ticker.MultipleLocator(1))\n",
    "        plt.savefig(save_dir + '/' + param_str +'minutes_held_hist.jpg')\n",
    "        \n",
    "        # Plot Minutes Held vs. Profit Scatter Plot\n",
    "        plt.figure()\n",
    "        ax = plt.gca()\n",
    "        plt.scatter(trade_profit_timeline, time_held_timeline)\n",
    "        plt.xlabel('Profit/Loss')\n",
    "        plt.ylabel('Minutes Held')\n",
    "        plt.title('Minutes Held vs. Profit/Loss')\n",
    "        plt.grid()\n",
    "        ax.xaxis.set_major_locator(ticker.MultipleLocator(5))\n",
    "        plt.savefig(save_dir + '/' + param_str +'minutes_held_hist.jpg')\n",
    "        \n",
    "        # Average Trade Histogram\n",
    "        plt.figure()\n",
    "        ax = plt.gca()\n",
    "        plt.hist(trade_profit_timeline, bins=1000)\n",
    "        plt.xlabel('Profit/Loss')\n",
    "        plt.ylabel('Frequency')\n",
    "        plt.title('Histogram of Profit/Loss per Trade\\n Average Trade: %0.4f\\n Median Trade: %0.4f' % (np.mean(trade_profit_timeline), np.median(trade_profit_timeline)))\n",
    "        plt.axvline(np.median(trade_profit_timeline), label='Median', linestyle='dashed')\n",
    "        plt.grid()\n",
    "        ax.xaxis.set_major_locator(ticker.MultipleLocator(5))\n",
    "        plt.savefig(save_dir + '/' + param_str +'_average_trade_hist.jpg')\n",
    "        \n",
    "    return backtest_results\n"
   ]
  },
  {
   "cell_type": "code",
   "execution_count": 6,
   "metadata": {},
   "outputs": [],
   "source": [
    "# Particular set of parameters for the SVM model that we want to backtest\n",
    "\n",
    "params = {'C': 100,\n",
    "   'cache_size': 2000,\n",
    "   'class_weight': {0: 0.5, 1: 0.5},\n",
    "   'gamma': 1,\n",
    "   'kernel': 'rbf'}"
   ]
  },
  {
   "cell_type": "code",
   "execution_count": 7,
   "metadata": {
    "scrolled": false
   },
   "outputs": [
    {
     "name": "stdout",
     "output_type": "stream",
     "text": [
      "P/L Dataframe saved as \"df_residual\" parameter.\n"
     ]
    }
   ],
   "source": [
    "df_pl = create_pl_df(df_gg, df_ggl, info)"
   ]
  },
  {
   "cell_type": "code",
   "execution_count": 8,
   "metadata": {},
   "outputs": [],
   "source": [
    "labels = fit(params, info)"
   ]
  },
  {
   "cell_type": "code",
   "execution_count": 9,
   "metadata": {},
   "outputs": [],
   "source": [
    "save_dir = './plots/backtesting/'"
   ]
  },
  {
   "cell_type": "code",
   "execution_count": 17,
   "metadata": {
    "scrolled": true
   },
   "outputs": [
    {
     "name": "stdout",
     "output_type": "stream",
     "text": [
      "Finding Profit/Loss for model with parameters: C-100_cache_size-2000_class_weight-005_105_gamma-1_kernel-rbf.\n"
     ]
    },
    {
     "data": {
      "image/png": "[encoded data removed]",
      "text/plain": [
       "<Figure size 432x288 with 1 Axes>"
      ]
     },
     "metadata": {
      "needs_background": "light"
     },
     "output_type": "display_data"
    },
    {
     "data": {
      "image/png": "[encoded data removed]",
      "text/plain": [
       "<Figure size 432x288 with 1 Axes>"
      ]
     },
     "metadata": {
      "needs_background": "light"
     },
     "output_type": "display_data"
    },
    {
     "data": {
      "image/png": "[encoded data removed]",
      "text/plain": [
       "<Figure size 432x288 with 1 Axes>"
      ]
     },
     "metadata": {
      "needs_background": "light"
     },
     "output_type": "display_data"
    },
    {
     "data": {
      "image/png": "[encoded data removed]",
      "text/plain": [
       "<Figure size 432x288 with 1 Axes>"
      ]
     },
     "metadata": {
      "needs_background": "light"
     },
     "output_type": "display_data"
    }
   ],
   "source": [
    "pl_info = find_profit_loss(df_pl, labels, params, save_dir=save_dir)"
   ]
  },
  {
   "cell_type": "code",
   "execution_count": null,
   "metadata": {
    "scrolled": true
   },
   "outputs": [
    {
     "name": "stdout",
     "output_type": "stream",
     "text": [
      "Finding Profit/Loss for model with parameters: C-100_cache_size-2000_class_weight-005_105_gamma-1_kernel-rbf.\n"
     ]
    }
   ],
   "source": [
    "correct = [1 if x+y==2 else 0 for x, y in zip(labels, df_pl.label) ]\n",
    "incorrect = [1 if x==1 and y == 0 else 0 for x, y in zip(labels, df_pl.label)]\n",
    "\n",
    "# nostradamus_info is assuming we get all of the labels correct\n",
    "correct_info = find_profit_loss(df_pl, correct, params, save_dir=save_dir+'correct')\n",
    "incorrect_info = find_profit_loss(df_pl, incorrect, params, save_dir=save_dir+'incorrect')\n",
    "nostradamus_info = find_profit_loss(df_pl, df_pl.label, params, save_dir=save_dir+'nostradamus')"
   ]
  },
  {
   "cell_type": "markdown",
   "metadata": {},
   "source": [
    "# Results"
   ]
  },
  {
   "cell_type": "markdown",
   "metadata": {},
   "source": [
    "### Total P/L after 2 years"
   ]
  },
  {
   "cell_type": "code",
   "execution_count": 18,
   "metadata": {
    "scrolled": true
   },
   "outputs": [
    {
     "name": "stdout",
     "output_type": "stream",
     "text": [
      "3444.4328303888606\n"
     ]
    }
   ],
   "source": [
    "print(pl_info['total_profit'])"
   ]
  },
  {
   "cell_type": "markdown",
   "metadata": {},
   "source": [
    "### Total Trades Executed"
   ]
  },
  {
   "cell_type": "code",
   "execution_count": 19,
   "metadata": {},
   "outputs": [
    {
     "name": "stdout",
     "output_type": "stream",
     "text": [
      "30041\n"
     ]
    }
   ],
   "source": [
    "print(pl_info['trades_executed'])"
   ]
  },
  {
   "cell_type": "markdown",
   "metadata": {},
   "source": [
    "### Sharpe Ratio"
   ]
  },
  {
   "cell_type": "code",
   "execution_count": 20,
   "metadata": {
    "scrolled": false
   },
   "outputs": [
    {
     "name": "stdout",
     "output_type": "stream",
     "text": [
      "11.52664343074494\n"
     ]
    }
   ],
   "source": [
    "print(pl_info['sharpe'])"
   ]
  }
 ],
 "metadata": {
  "kernelspec": {
   "display_name": "Python 3",
   "language": "python",
   "name": "python3"
  },
  "language_info": {
   "codemirror_mode": {
    "name": "ipython",
    "version": 3
   },
   "file_extension": ".py",
   "mimetype": "text/x-python",
   "name": "python",
   "nbconvert_exporter": "python",
   "pygments_lexer": "ipython3",
   "version": "3.6.7"
  }
 },
 "nbformat": 4,
 "nbformat_minor": 2
}
